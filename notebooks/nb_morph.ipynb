{
 "cells": [
  {
   "cell_type": "markdown",
   "metadata": {},
   "source": [
    "# Notebook for morphological operations"
   ]
  },
  {
   "cell_type": "markdown",
   "metadata": {},
   "source": [
    "## Make the import"
   ]
  },
  {
   "cell_type": "code",
   "execution_count": null,
   "metadata": {},
   "outputs": [],
   "source": [
    "import numpy as np\n",
    "import os\n",
    "import cv2\n",
    "import matplotlib.pyplot as plt"
   ]
  },
  {
   "cell_type": "markdown",
   "metadata": {},
   "source": [
    "### Read and display the image"
   ]
  },
  {
   "cell_type": "code",
   "execution_count": null,
   "metadata": {},
   "outputs": [],
   "source": [
    "data_root = \"Images/\"\n",
    "\n",
    "# Read in grayscale\n",
    "image = cv2.imread(os.path.join(data_root, \"rice.jpg\"), cv2.IMREAD_GRAYSCALE)"
   ]
  },
  {
   "cell_type": "code",
   "execution_count": null,
   "metadata": {},
   "outputs": [],
   "source": [
    "plt.figure(figsize=(15, 10))\n",
    "plt.imshow(image, cmap=\"gray\")"
   ]
  },
  {
   "cell_type": "markdown",
   "metadata": {},
   "source": [
    "### Threshold the image into a binary image"
   ]
  },
  {
   "cell_type": "code",
   "execution_count": null,
   "metadata": {},
   "outputs": [],
   "source": [
    "def otsu_parts(img, n, direction):\n",
    "    \n",
    "    out = []\n",
    "    \n",
    "    if direction == 'horizontal':\n",
    "        l = img.shape[0]\n",
    "        h = np.linspace(0, l, n+1).astype('int')\n",
    "        \n",
    "        for i in range(n):\n",
    "            ret, th = cv2.threshold(img[h[i]: h[i+1], :], 0, 255, cv2.THRESH_BINARY + cv2.THRESH_OTSU)\n",
    "            out.append(th)\n",
    "    else:\n",
    "        l = img.shape[1]\n",
    "        h = np.linspace(0, l, n+1).astype('int')\n",
    "        \n",
    "        for i in range(n):\n",
    "            ret, th = cv2.threshold(img[:, h[i]: h[i+1]], 0, 255, cv2.THRESH_BINARY + cv2.THRESH_OTSU)\n",
    "            out.append(th)\n",
    "    \n",
    "    \n",
    "    return np.concatenate(out, axis=0)\n",
    "\n",
    "image_thresh = otsu_parts(image, 5, 'horizontal')"
   ]
  },
  {
   "cell_type": "code",
   "execution_count": null,
   "metadata": {},
   "outputs": [],
   "source": [
    "# _, image_thresh = cv2.threshold(image, 100, 255, cv2.THRESH_BINARY)\n",
    "plt.figure(figsize=(15, 10))\n",
    "plt.imshow(image_thresh, cmap=\"gray\")"
   ]
  },
  {
   "cell_type": "markdown",
   "metadata": {},
   "source": [
    "### Implementation of an 7x7 erosion operator"
   ]
  },
  {
   "cell_type": "code",
   "execution_count": null,
   "metadata": {},
   "outputs": [],
   "source": [
    "pad=2\n",
    "padded = np.pad(image_thresh, ((pad, pad), (pad, pad)), 'constant', constant_values=255) # 255 is the default value for erosion, 0 is for dilation\n",
    "\n",
    "h, w = image_thresh.shape\n",
    "\n",
    "new_image = np.zeros_like(image_thresh)\n",
    "\n",
    "struct_elem = 255*np.ones((2*pad+1, 2*pad+1))\n",
    "\n",
    "for i in range(pad, h+pad):\n",
    "    for j in range(pad, w+pad):\n",
    "        if (padded[i-pad:i+pad+1, j-pad:j+pad+1] == struct_elem).all():\n",
    "            new_image[i-pad, j-pad] = 255"
   ]
  },
  {
   "cell_type": "code",
   "execution_count": null,
   "metadata": {},
   "outputs": [],
   "source": [
    "plt.figure(figsize=(15, 10))\n",
    "plt.imshow(new_image, cmap=\"gray\")"
   ]
  },
  {
   "cell_type": "markdown",
   "metadata": {},
   "source": [
    "### Opencv version"
   ]
  },
  {
   "cell_type": "code",
   "execution_count": null,
   "metadata": {},
   "outputs": [],
   "source": [
    "kernel = np.ones((5, 5), np.uint8)\n",
    "\n",
    "eroded = cv2.erode(image_thresh, kernel, iterations=1)\n",
    "plt.figure(figsize=(15, 10))\n",
    "plt.imshow(eroded, cmap=\"gray\")"
   ]
  },
  {
   "cell_type": "markdown",
   "metadata": {},
   "source": [
    "### Check that the output is the same"
   ]
  },
  {
   "cell_type": "code",
   "execution_count": null,
   "metadata": {},
   "outputs": [],
   "source": [
    "print((new_image == eroded).all())"
   ]
  },
  {
   "cell_type": "markdown",
   "metadata": {},
   "source": [
    "### Other implementation"
   ]
  },
  {
   "cell_type": "code",
   "execution_count": null,
   "metadata": {},
   "outputs": [],
   "source": [
    "a = cv2.erode(image_thresh, np.ones((5, 5), np.uint8), iterations=1)\n",
    "b = cv2.erode(image_thresh, np.ones((3, 3), np.uint8), iterations=2)\n",
    "c = cv2.morphologyEx(image_thresh, cv2.MORPH_ERODE, kernel=np.ones((5, 5), np.uint8), iterations=1)\n",
    "\n",
    "print((a == b).all(), (a == c).all())"
   ]
  },
  {
   "cell_type": "markdown",
   "metadata": {},
   "source": [
    "### Dilation with opencv"
   ]
  },
  {
   "cell_type": "code",
   "execution_count": null,
   "metadata": {},
   "outputs": [],
   "source": [
    "dilated = cv2.dilate(image_thresh, kernel, iterations=1)\n",
    "plt.figure(figsize=(15, 10))\n",
    "plt.imshow(dilated, cmap=\"gray\")"
   ]
  },
  {
   "cell_type": "markdown",
   "metadata": {},
   "source": [
    "### Opening with opencv"
   ]
  },
  {
   "cell_type": "code",
   "execution_count": null,
   "metadata": {},
   "outputs": [],
   "source": [
    "opened = cv2.morphologyEx(image_thresh, cv2.MORPH_OPEN, kernel=kernel)\n",
    "plt.figure(figsize=(15, 10))\n",
    "plt.imshow(opened, cmap=\"gray\")"
   ]
  },
  {
   "cell_type": "markdown",
   "metadata": {},
   "source": [
    "### Closing with opencv"
   ]
  },
  {
   "cell_type": "code",
   "execution_count": null,
   "metadata": {},
   "outputs": [],
   "source": [
    "closed = cv2.morphologyEx(image_thresh, cv2.MORPH_CLOSE, kernel=kernel)\n",
    "plt.figure(figsize=(15, 10))\n",
    "plt.imshow(closed, cmap=\"gray\")"
   ]
  },
  {
   "cell_type": "code",
   "execution_count": null,
   "metadata": {},
   "outputs": [],
   "source": [
    "plt.figure(figsize=(15, 10))\n",
    "plt.imshow(cv2.erode(cv2.dilate(image_thresh, kernel, iterations=1), kernel, iterations=1), cmap=\"gray\")"
   ]
  },
  {
   "cell_type": "markdown",
   "metadata": {},
   "source": [
    "### Closing is the cascade of a dilation followed by erosion"
   ]
  },
  {
   "cell_type": "code",
   "execution_count": null,
   "metadata": {},
   "outputs": [],
   "source": [
    "print((closed == cv2.erode(cv2.dilate(image_thresh, kernel, iterations=1), kernel, iterations=1)).all())"
   ]
  },
  {
   "cell_type": "code",
   "execution_count": null,
   "metadata": {},
   "outputs": [],
   "source": [
    "plt.figure(figsize=(15, 10))\n",
    "plt.imshow(dilated - eroded, cmap=\"gray\")"
   ]
  },
  {
   "cell_type": "code",
   "execution_count": null,
   "metadata": {},
   "outputs": [],
   "source": []
  }
 ],
 "metadata": {
  "kernelspec": {
   "display_name": "cv",
   "language": "python",
   "name": "cv"
  },
  "language_info": {
   "codemirror_mode": {
    "name": "ipython",
    "version": 3
   },
   "file_extension": ".py",
   "mimetype": "text/x-python",
   "name": "python",
   "nbconvert_exporter": "python",
   "pygments_lexer": "ipython3",
   "version": "3.9.19"
  }
 },
 "nbformat": 4,
 "nbformat_minor": 2
}
